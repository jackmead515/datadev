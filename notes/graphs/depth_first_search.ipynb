{
 "cells": [
  {
   "cell_type": "markdown",
   "metadata": {},
   "source": [
    "# Depth First Search\n",
    "\n",
    "Goes down a path until it reaches a dead end, then backtracks and tries another path.\n",
    "\n",
    "DFS can do:\n",
    "\n",
    "- Compute a graph's minimum spanning tree\n",
    "- Detect and find cycles in a graph\n",
    "- Check if a graph is bipartite\n",
    "- Find strongly connected components\n",
    "- Topologically sort the nodes of a graph\n",
    "- Find bridges and articulation points\n",
    "- Find augmenting paths in a flow network\n",
    "- Generate mazes"
   ]
  },
  {
   "cell_type": "code",
   "execution_count": 20,
   "metadata": {},
   "outputs": [
    {
     "name": "stdout",
     "output_type": "stream",
     "text": [
      "F\n",
      "C\n",
      "D\n",
      "B\n",
      "E\n",
      "A\n"
     ]
    }
   ],
   "source": [
    "graph = {\n",
    "    'A': ['B', 'C'],\n",
    "    'B': ['D', 'E'],\n",
    "    'C': ['F'],\n",
    "    'D': [],\n",
    "    'E': ['F'],\n",
    "    'F': ['C', 'A']\n",
    "}\n",
    "\n",
    "def depth_first_search(graph, root):\n",
    "    visited, stack = set(), [root]\n",
    "    while stack:\n",
    "        \n",
    "        # get the last element of the stack\n",
    "        vertex = stack.pop()\n",
    "        \n",
    "        # if the vertex is not in the visited list\n",
    "        if vertex not in visited:\n",
    "            \n",
    "            # add the vertex to the visited list\n",
    "            visited.add(vertex)\n",
    "            \n",
    "            # add the vertex and its children to the stack if the vertex is not in the visited list\n",
    "            stack.extend([x for x in graph[vertex] if x not in visited])\n",
    "\n",
    "    return visited\n",
    "\n",
    "for vertex in depth_first_search(graph, 'A'):\n",
    "    print(vertex)"
   ]
  },
  {
   "cell_type": "markdown",
   "metadata": {},
   "source": [
    "# Find Connected Components\n",
    "\n",
    "Start a depth first search at each node that hasn't been visited yet. Each time you start a new search, you've found a new connected component."
   ]
  },
  {
   "cell_type": "code",
   "execution_count": 1,
   "metadata": {},
   "outputs": [
    {
     "ename": "NameError",
     "evalue": "name 'graph' is not defined",
     "output_type": "error",
     "traceback": [
      "\u001b[0;31m---------------------------------------------------------------------------\u001b[0m",
      "\u001b[0;31mNameError\u001b[0m                                 Traceback (most recent call last)",
      "Cell \u001b[0;32mIn[1], line 22\u001b[0m\n\u001b[1;32m     18\u001b[0m             components\u001b[38;5;241m.\u001b[39mappend(component)\n\u001b[1;32m     20\u001b[0m     \u001b[38;5;28;01mreturn\u001b[39;00m components\n\u001b[0;32m---> 22\u001b[0m \u001b[38;5;28;01mfor\u001b[39;00m component \u001b[38;5;129;01min\u001b[39;00m connected_components(\u001b[43mgraph\u001b[49m):\n\u001b[1;32m     23\u001b[0m     \u001b[38;5;28;01mfor\u001b[39;00m vertex \u001b[38;5;129;01min\u001b[39;00m component:\n\u001b[1;32m     24\u001b[0m         \u001b[38;5;28mprint\u001b[39m(vertex, end \u001b[38;5;241m=\u001b[39m \u001b[38;5;124m\"\u001b[39m\u001b[38;5;124m \u001b[39m\u001b[38;5;124m\"\u001b[39m)\n",
      "\u001b[0;31mNameError\u001b[0m: name 'graph' is not defined"
     ]
    }
   ],
   "source": [
    "def connected_components(graph):\n",
    "    visited = set()\n",
    "    components = []\n",
    "\n",
    "    # for all the vertices in the graph\n",
    "    for vertex in graph:\n",
    "        \n",
    "        # if we have not traversed the vertex\n",
    "        if vertex not in visited:\n",
    "            # we know we have a new component now\n",
    "            # get the vertices in the next component by doing a depth first search\n",
    "            component = set(depth_first_search(graph, vertex))\n",
    "            \n",
    "            # update the visited list\n",
    "            visited.update(component)\n",
    "            \n",
    "            # add the component to the list of components\n",
    "            components.append(component)\n",
    "    \n",
    "    return components\n",
    "\n",
    "for component in connected_components(graph):\n",
    "    for vertex in component:\n",
    "        print(vertex, end = \" \")\n",
    "    print(\"\\n*************\")"
   ]
  }
 ],
 "metadata": {
  "kernelspec": {
   "display_name": "datadev-5ox7fytP",
   "language": "python",
   "name": "python3"
  },
  "language_info": {
   "codemirror_mode": {
    "name": "ipython",
    "version": 3
   },
   "file_extension": ".py",
   "mimetype": "text/x-python",
   "name": "python",
   "nbconvert_exporter": "python",
   "pygments_lexer": "ipython3",
   "version": "3.10.12"
  }
 },
 "nbformat": 4,
 "nbformat_minor": 2
}
