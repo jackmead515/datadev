{
 "cells": [
  {
   "cell_type": "markdown",
   "metadata": {},
   "source": [
    "# Dijkstra's Algorithm\n",
    "\n",
    "Time Complexity: O(E*log(V))\n",
    "\n",
    "Shortest path algorithm for weighted graphs with non-negative edge weights.\n",
    "\n",
    "Algorithm overview:\n",
    "\n",
    "- Maintain a distance array where the distance to every node is positive infinity. The distance to the source node is 0.\n",
    "\n",
    "- Maintain a priority queue of nodes to visit. The priority queue is sorted by the distance to the node.\n",
    "\n",
    "- While the priority queue is not empty, pop the node with the smallest distance.\n",
    "\n",
    "- For every neighbor of the node, if the distance to the node plus the weight of the edge to the neighbor is less than the current distance to the neighbor, update the distance to the neighbor and add the neighbor to the priority queue.\n",
    "\n",
    "If we use the \"lazy\" version, the priorty queue may contain duplicate nodes. This is because we can't lookup the node in constant time.\n",
    "\n",
    "If we use the \"eager\" version, the priority queue will not contain duplicate nodes. This is because we can lookup the node in constant time using an Indexed Priority Queue."
   ]
  },
  {
   "cell_type": "code",
   "execution_count": 13,
   "metadata": {},
   "outputs": [
    {
     "name": "stdout",
     "output_type": "stream",
     "text": [
      "(8, ['A', 'B', 'C', 'D', 'E'])\n"
     ]
    }
   ],
   "source": [
    "# import priority_queue\n",
    "from queue import PriorityQueue\n",
    "\n",
    "def shortest_path(graph, start, end):\n",
    "    \n",
    "    # initialize priority queue, visited set, distance dictionary, and parents dictionary\n",
    "    pq = PriorityQueue()\n",
    "    visited = set()\n",
    "    distance = {node: float('inf') for node in graph}\n",
    "    parents = {}\n",
    "    \n",
    "    # set the distance of the start node to 0\n",
    "    pq.put((0, start))\n",
    "    \n",
    "    # while there is still nodes to visit\n",
    "    while not pq.empty():\n",
    "        cost, node = pq.get()\n",
    "\n",
    "        # if node is the end node, return the cost and path\n",
    "        if node == end:\n",
    "            \n",
    "            # using the parents dictionary, backtrack from end node to start node\n",
    "            path = []\n",
    "            current = end\n",
    "            while current != start:\n",
    "                path.append(current)\n",
    "                current = parents[current]\n",
    "            path.append(start)\n",
    "\n",
    "            # return the cost and path. Path is reversed because we backtracked from end to start\n",
    "            return cost, path[::-1]\n",
    "\n",
    "        # if node has not been visited\n",
    "        if node not in visited:\n",
    "\n",
    "            # add node to visited set\n",
    "            visited.add(node)\n",
    "            \n",
    "            # optimization step: if the cost to get to the node is greater than the current cost, skip\n",
    "            if distance[node] < cost:\n",
    "                continue\n",
    "\n",
    "            # for each neighbor of the node, if not visited, compute the new distance\n",
    "            for neighbor in graph[node]:\n",
    "                if neighbor not in visited:\n",
    "                    \n",
    "                    # compute the new distance from start to neighbor\n",
    "                    new_distance = cost + graph[node][neighbor]\n",
    "                    \n",
    "                    # if the new distance is less than the current distance\n",
    "                    if new_distance < distance[neighbor]:\n",
    "                        \n",
    "                        # update the new shorter distance\n",
    "                        distance[neighbor] = new_distance\n",
    "                        \n",
    "                        # add the neighbor to the priority queue with the new distance\n",
    "                        pq.put((new_distance, neighbor))\n",
    "                        \n",
    "                        # add the parent of the neighbor to the parents dictionary\n",
    "                        parents[neighbor] = node\n",
    "\n",
    "    # if no path is found, return None\n",
    "    return None\n",
    "\n",
    "graph = {\n",
    "    'A': {'B': 3, 'C': 5},\n",
    "    'B': {'A': 2, 'C': 1},\n",
    "    'C': {'B': 1, 'D': 3},\n",
    "    'D': {'C': 3, 'E': 1},\n",
    "    'E': {'C': 1, 'D': 1}\n",
    "}\n",
    "\n",
    "print(shortest_path(graph, 'A', 'E'))"
   ]
  }
 ],
 "metadata": {
  "kernelspec": {
   "display_name": "datadev-5ox7fytP",
   "language": "python",
   "name": "python3"
  },
  "language_info": {
   "codemirror_mode": {
    "name": "ipython",
    "version": 3
   },
   "file_extension": ".py",
   "mimetype": "text/x-python",
   "name": "python",
   "nbconvert_exporter": "python",
   "pygments_lexer": "ipython3",
   "version": "3.10.12"
  }
 },
 "nbformat": 4,
 "nbformat_minor": 2
}
