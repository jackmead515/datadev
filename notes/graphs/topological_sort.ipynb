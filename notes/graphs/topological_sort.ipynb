{
 "cells": [
  {
   "cell_type": "markdown",
   "metadata": {},
   "source": [
    "# Topological Sort\n",
    "\n",
    "Can be used to model dependencies between tasks.\n",
    "\n",
    "- School scheduling\n",
    "- Course prerequisites\n",
    "- Event scheduling\n",
    "- Assembly instructions\n",
    "\n",
    "When using Spark, we can use topological sort to determine the order in which we should perform our joins.\n",
    "\n",
    "When compiling a Rust program, we need to compile all the dependencies first before we can compile the main program.\n",
    "We can use topological sort to determine the order in which we should compile the dependencies.\n",
    "\n",
    "A graph that has a valid topological ordering is called a **DAG** (Directed Acyclic Graph). A tree is a type of DAG.\n",
    "since it is a directed graph with no cycles.\n",
    "\n",
    "We can use Tarjan's algorithm to find cycles in a graph."
   ]
  },
  {
   "cell_type": "code",
   "execution_count": 6,
   "metadata": {},
   "outputs": [
    {
     "name": "stdout",
     "output_type": "stream",
     "text": [
      "['b', 'd', 'c', 'e', 'a']\n"
     ]
    }
   ],
   "source": [
    "dag_graph = {\n",
    "    'a': ['b', 'c'],\n",
    "    'b': ['d'],\n",
    "    'c': ['d'],\n",
    "    'd': ['e'],\n",
    "    'e': [],\n",
    "}\n",
    "\n",
    "def depth_first_search(graph, root):\n",
    "    visited, stack = set(), [root]\n",
    "    while stack:\n",
    "        \n",
    "        # get the last element of the stack\n",
    "        vertex = stack.pop()\n",
    "        \n",
    "        # if the vertex is not in the visited list\n",
    "        if vertex not in visited:\n",
    "            \n",
    "            # add the vertex to the visited list\n",
    "            visited.add(vertex)\n",
    "            \n",
    "            # add the vertex and its children to the stack if the vertex is not in the visited list\n",
    "            stack.extend([x for x in graph[vertex] if x not in visited])\n",
    "\n",
    "    return visited\n",
    "\n",
    "\n",
    "def topological_sort(graph):\n",
    "    visited = []\n",
    "    \n",
    "    # iterate through all the nodes in the graph\n",
    "    for node in graph:\n",
    "        \n",
    "        # if the node is not in the visited list\n",
    "        if node not in visited:\n",
    "            visited.append(node)\n",
    "            \n",
    "            # depth first search the node and its children\n",
    "            dvisited = depth_first_search(graph, node)\n",
    "            for vnode in dvisited:\n",
    "                if vnode not in visited:\n",
    "                    visited.append(vnode)\n",
    "    \n",
    "    return visited\n",
    "    \n",
    "print(topological_sort(dag_graph))"
   ]
  }
 ],
 "metadata": {
  "kernelspec": {
   "display_name": "datadev-5ox7fytP",
   "language": "python",
   "name": "python3"
  },
  "language_info": {
   "codemirror_mode": {
    "name": "ipython",
    "version": 3
   },
   "file_extension": ".py",
   "mimetype": "text/x-python",
   "name": "python",
   "nbconvert_exporter": "python",
   "pygments_lexer": "ipython3",
   "version": "3.10.12"
  }
 },
 "nbformat": 4,
 "nbformat_minor": 2
}
